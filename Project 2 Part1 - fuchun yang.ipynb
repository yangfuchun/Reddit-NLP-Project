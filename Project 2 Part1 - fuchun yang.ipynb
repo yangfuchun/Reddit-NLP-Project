{
  "cells": [
    {
      "cell_type": "markdown",
      "metadata": {
        "id": "-MLkBtPr49Xx"
      },
      "source": [
        "# QMSS 301 Web Scarping - Reddit"
      ]
    },
    {
      "cell_type": "code",
      "execution_count": 1,
      "metadata": {
        "id": "I-TVAUE9BGZk"
      },
      "outputs": [],
      "source": [
        "# This part is to import the packages for later analysis. \n",
        "import requests\n",
        "import pandas as pd\n",
        "\n",
        "# Supress Warnings\n",
        "import warnings\n",
        "warnings.filterwarnings('ignore')"
      ]
    },
    {
      "cell_type": "markdown",
      "metadata": {
        "id": "VQKF0Qi0ppax"
      },
      "source": [
        "# **API Security Tokens**"
      ]
    },
    {
      "cell_type": "code",
      "execution_count": 2,
      "metadata": {
        "id": "1HQdNyhBx2UB"
      },
      "outputs": [],
      "source": [
        "# This part is to pass login method, user name and passowrd \n",
        "auth = requests.auth.HTTPBasicAuth('FUieF7xEkLsimc79KGxSjA', 'uuiREkQQT0HknLLNCMHp8j_l8j4Byw')\n",
        "\n",
        "data = {'grant_type': 'password',\n",
        "        'username': 'Lucky_Race_4947',\n",
        "        'password': '@Lyx990621.'}"
      ]
    },
    {
      "cell_type": "code",
      "execution_count": 3,
      "metadata": {
        "id": "u7r83d9uBGZl"
      },
      "outputs": [],
      "source": [
        "# This part is to setup header info, which gives reddit a brief description of our app\n",
        "headers = {'User-Agent': 'MyBot/0.0.1'}\n",
        "\n",
        "# This is to send  request for an OAuth token\n",
        "res = requests.post('https://www.reddit.com/api/v1/access_token',\n",
        "                    auth=auth, data=data, headers=headers)\n",
        "\n",
        "# This is to convert response to JSON and pull access_token value\n",
        "TOKEN = res.json()['access_token']\n",
        "\n",
        "# This is to add authorization to our headers dictionary\n",
        "headers = {**headers, **{'Authorization': f\"bearer {TOKEN}\"}}\n"
      ]
    },
    {
      "cell_type": "markdown",
      "metadata": {
        "id": "W2qvfdD8puwK"
      },
      "source": [
        "# **Subreddit Page Details**"
      ]
    },
    {
      "cell_type": "code",
      "execution_count": 4,
      "metadata": {
        "id": "CQzevyOdTkMh"
      },
      "outputs": [],
      "source": [
        "# This is to make a request for the trending posts in /r/Health\n",
        "\n",
        "subreddit = \"health\"  # subreddit page title - Eg - \n",
        "type_post = \"best\"  # controversial, best, hot, new, random, rising, top\n",
        "limit = 100   # default: 25; Max: 100\n",
        "num_pages = 70 # number of pages"
      ]
    },
    {
      "cell_type": "markdown",
      "metadata": {
        "id": "eyffQl1LpA7b"
      },
      "source": [
        "# **API Call - Simple Example**"
      ]
    },
    {
      "cell_type": "code",
      "execution_count": null,
      "metadata": {
        "id": "GHPGGuxdoOdl"
      },
      "outputs": [],
      "source": [
        "# This is to extract at least 5000+ posts\n",
        "response = requests.get(f\"https://oauth.reddit.com/r/{subreddit}/{type_post}.json?limit={limit}\".format(subreddit, type_post, limit),  \n",
        "                   headers=headers)\n",
        "\n",
        "print(response.json()['data']['children'])"
      ]
    },
    {
      "cell_type": "markdown",
      "metadata": {
        "id": "akJkB4FVTkMj"
      },
      "source": [
        "**Understanding the Reddit Data**\n",
        "\n",
        "https://jsonformatter.curiousconcept.com/"
      ]
    },
    {
      "cell_type": "markdown",
      "metadata": {
        "id": "IDl90dYDpIOt"
      },
      "source": [
        "# **API Call - Pagination**"
      ]
    },
    {
      "cell_type": "markdown",
      "metadata": {
        "id": "oSxTwtRZTkMi"
      },
      "source": [
        "**The response will contain an \"after\" value which you can pass in the next request.**"
      ]
    },
    {
      "cell_type": "code",
      "execution_count": 6,
      "metadata": {
        "id": "tfKpOTF8BGZl"
      },
      "outputs": [],
      "source": [
        "# This is pagination\n",
        "url = f\"https://oauth.reddit.com/r/{subreddit}/{type_post}.json?limit={limit}\".format(subreddit, type_post, limit)\n",
        "posts = []\n",
        "after = '' # Default/Initial value\n",
        "before = '' # Default/Initial value\n",
        "\n",
        "for page in range(0, num_pages): \n",
        "    page_url = url\n",
        "    if before:\n",
        "        page_url += '&before=' + before  # before key for the before page (P - 1) -> P is the current page\n",
        "    if after:\n",
        "        page_url += '&after=' + after  # after key for the next page (P + 1)\n",
        "    \n",
        "    response = requests.get(page_url, headers=headers).json()\n",
        "    posts += response['data']['children']\n",
        "    after = response['data']['after']  # Extracting the after field from JSON Data\n",
        "    before = response['data']['before']  # Extracting the before field from JSON Data\n",
        "\n"
      ]
    },
    {
      "cell_type": "markdown",
      "metadata": {
        "id": "CWK8ztl4pWju"
      },
      "source": [
        "# **Reddit JSON Data Keys**"
      ]
    },
    {
      "cell_type": "code",
      "execution_count": 8,
      "metadata": {
        "id": "gG1aqOQ-UKfW"
      },
      "outputs": [
        {
          "name": "stdout",
          "output_type": "stream",
          "text": [
            "approved_at_utc\n",
            "subreddit\n",
            "selftext\n",
            "author_fullname\n",
            "saved\n",
            "mod_reason_title\n",
            "gilded\n",
            "clicked\n",
            "title\n",
            "link_flair_richtext\n",
            "subreddit_name_prefixed\n",
            "hidden\n",
            "pwls\n",
            "link_flair_css_class\n",
            "downs\n",
            "thumbnail_height\n",
            "top_awarded_type\n",
            "hide_score\n",
            "name\n",
            "quarantine\n",
            "link_flair_text_color\n",
            "upvote_ratio\n",
            "author_flair_background_color\n",
            "subreddit_type\n",
            "ups\n",
            "total_awards_received\n",
            "media_embed\n",
            "thumbnail_width\n",
            "author_flair_template_id\n",
            "is_original_content\n",
            "user_reports\n",
            "secure_media\n",
            "is_reddit_media_domain\n",
            "is_meta\n",
            "category\n",
            "secure_media_embed\n",
            "link_flair_text\n",
            "can_mod_post\n",
            "score\n",
            "approved_by\n",
            "is_created_from_ads_ui\n",
            "author_premium\n",
            "thumbnail\n",
            "edited\n",
            "author_flair_css_class\n",
            "author_flair_richtext\n",
            "gildings\n",
            "post_hint\n",
            "content_categories\n",
            "is_self\n",
            "mod_note\n",
            "created\n",
            "link_flair_type\n",
            "wls\n",
            "removed_by_category\n",
            "banned_by\n",
            "author_flair_type\n",
            "domain\n",
            "allow_live_comments\n",
            "selftext_html\n",
            "likes\n",
            "suggested_sort\n",
            "banned_at_utc\n",
            "url_overridden_by_dest\n",
            "view_count\n",
            "archived\n",
            "no_follow\n",
            "is_crosspostable\n",
            "pinned\n",
            "over_18\n",
            "preview\n",
            "all_awardings\n",
            "awarders\n",
            "media_only\n",
            "can_gild\n",
            "spoiler\n",
            "locked\n",
            "author_flair_text\n",
            "treatment_tags\n",
            "visited\n",
            "removed_by\n",
            "num_reports\n",
            "distinguished\n",
            "subreddit_id\n",
            "author_is_blocked\n",
            "mod_reason_by\n",
            "removal_reason\n",
            "link_flair_background_color\n",
            "id\n",
            "is_robot_indexable\n",
            "report_reasons\n",
            "author\n",
            "discussion_type\n",
            "num_comments\n",
            "send_replies\n",
            "whitelist_status\n",
            "contest_mode\n",
            "mod_reports\n",
            "author_patreon_flair\n",
            "author_flair_text_color\n",
            "permalink\n",
            "parent_whitelist_status\n",
            "stickied\n",
            "url\n",
            "subreddit_subscribers\n",
            "created_utc\n",
            "num_crossposts\n",
            "media\n",
            "is_video\n"
          ]
        }
      ],
      "source": [
        "# This is to printing all the variable keys in the data and have a better understnading of the data structure \n",
        "for key in response['data']['children'][0]['data'].keys():\n",
        "    print(key) \n",
        "\n"
      ]
    },
    {
      "cell_type": "markdown",
      "metadata": {
        "id": "w625bikDTkMl"
      },
      "source": [
        "# **JSON Data Array to Pandas Dataframe**"
      ]
    },
    {
      "cell_type": "code",
      "execution_count": 11,
      "metadata": {
        "id": "de-Y5rtbBGZm"
      },
      "outputs": [
        {
          "data": {
            "text/html": [
              "<div>\n",
              "<style scoped>\n",
              "    .dataframe tbody tr th:only-of-type {\n",
              "        vertical-align: middle;\n",
              "    }\n",
              "\n",
              "    .dataframe tbody tr th {\n",
              "        vertical-align: top;\n",
              "    }\n",
              "\n",
              "    .dataframe thead th {\n",
              "        text-align: right;\n",
              "    }\n",
              "</style>\n",
              "<table border=\"1\" class=\"dataframe\">\n",
              "  <thead>\n",
              "    <tr style=\"text-align: right;\">\n",
              "      <th></th>\n",
              "      <th>subreddit</th>\n",
              "      <th>title</th>\n",
              "      <th>selftext</th>\n",
              "      <th>upvote_ratio</th>\n",
              "      <th>ups</th>\n",
              "      <th>downs</th>\n",
              "      <th>score</th>\n",
              "      <th>total_awards_received</th>\n",
              "      <th>num_comments</th>\n",
              "      <th>name</th>\n",
              "    </tr>\n",
              "  </thead>\n",
              "  <tbody>\n",
              "    <tr>\n",
              "      <th>0</th>\n",
              "      <td>Health</td>\n",
              "      <td>9 million children to be vaccinated against po...</td>\n",
              "      <td></td>\n",
              "      <td>0.97</td>\n",
              "      <td>227</td>\n",
              "      <td>0</td>\n",
              "      <td>227</td>\n",
              "      <td>1</td>\n",
              "      <td>9</td>\n",
              "      <td>t3_tm4duo</td>\n",
              "    </tr>\n",
              "    <tr>\n",
              "      <th>1</th>\n",
              "      <td>Health</td>\n",
              "      <td>Male birth control pill 99 per cent effective ...</td>\n",
              "      <td></td>\n",
              "      <td>0.77</td>\n",
              "      <td>9</td>\n",
              "      <td>0</td>\n",
              "      <td>9</td>\n",
              "      <td>0</td>\n",
              "      <td>1</td>\n",
              "      <td>t3_tmvnpp</td>\n",
              "    </tr>\n",
              "    <tr>\n",
              "      <th>2</th>\n",
              "      <td>Health</td>\n",
              "      <td>FDA: Unsanitary Conditions Found at Baby Food ...</td>\n",
              "      <td></td>\n",
              "      <td>1.00</td>\n",
              "      <td>8</td>\n",
              "      <td>0</td>\n",
              "      <td>8</td>\n",
              "      <td>0</td>\n",
              "      <td>1</td>\n",
              "      <td>t3_tmqs4n</td>\n",
              "    </tr>\n",
              "    <tr>\n",
              "      <th>3</th>\n",
              "      <td>Health</td>\n",
              "      <td>California governor signs law that makes abort...</td>\n",
              "      <td></td>\n",
              "      <td>0.95</td>\n",
              "      <td>791</td>\n",
              "      <td>0</td>\n",
              "      <td>791</td>\n",
              "      <td>0</td>\n",
              "      <td>20</td>\n",
              "      <td>t3_tkwola</td>\n",
              "    </tr>\n",
              "    <tr>\n",
              "      <th>4</th>\n",
              "      <td>Health</td>\n",
              "      <td>Federal judge sides with 12 disabled kids seek...</td>\n",
              "      <td></td>\n",
              "      <td>0.88</td>\n",
              "      <td>6</td>\n",
              "      <td>0</td>\n",
              "      <td>6</td>\n",
              "      <td>0</td>\n",
              "      <td>0</td>\n",
              "      <td>t3_tmvkjk</td>\n",
              "    </tr>\n",
              "  </tbody>\n",
              "</table>\n",
              "</div>"
            ],
            "text/plain": [
              "  subreddit                                              title selftext  \\\n",
              "0    Health  9 million children to be vaccinated against po...            \n",
              "1    Health  Male birth control pill 99 per cent effective ...            \n",
              "2    Health  FDA: Unsanitary Conditions Found at Baby Food ...            \n",
              "3    Health  California governor signs law that makes abort...            \n",
              "4    Health  Federal judge sides with 12 disabled kids seek...            \n",
              "\n",
              "   upvote_ratio  ups  downs  score  total_awards_received  num_comments  \\\n",
              "0          0.97  227      0    227                      1             9   \n",
              "1          0.77    9      0      9                      0             1   \n",
              "2          1.00    8      0      8                      0             1   \n",
              "3          0.95  791      0    791                      0            20   \n",
              "4          0.88    6      0      6                      0             0   \n",
              "\n",
              "        name  \n",
              "0  t3_tm4duo  \n",
              "1  t3_tmvnpp  \n",
              "2  t3_tmqs4n  \n",
              "3  t3_tkwola  \n",
              "4  t3_tmvkjk  "
            ]
          },
          "execution_count": 11,
          "metadata": {},
          "output_type": "execute_result"
        }
      ],
      "source": [
        "# This is to initialize the data frmae and append the data points into the datafromae \n",
        "df = pd.DataFrame()  \n",
        "\n",
        "for post in posts:\n",
        "    df = df.append({\n",
        "        'subreddit': post['data']['subreddit'],\n",
        "        'title': post['data']['title'],\n",
        "        'selftext': post['data']['selftext'],\n",
        "        'upvote_ratio': post['data']['upvote_ratio'], \n",
        "        'ups': post['data']['ups'],\n",
        "        'downs': post['data']['downs'],\n",
        "        'score': post['data']['score'],\n",
        "        'total_awards_received': post['data']['total_awards_received'], \n",
        "        'num_comments': post['data']['num_comments'],\n",
        "        'name': post ['data']['name']\n",
        "    }, ignore_index=True)\n",
        "\n",
        "df.head()"
      ]
    },
    {
      "cell_type": "markdown",
      "metadata": {
        "id": "OxWGIlGmTkMl"
      },
      "source": [
        "# **Saving the data** "
      ]
    },
    {
      "cell_type": "code",
      "execution_count": 12,
      "metadata": {
        "id": "4s4GDVpOBGZm"
      },
      "outputs": [],
      "source": [
        "# This is to save the data into a csv file \n",
        "df.to_csv('./data1.csv', index=True, header=True)"
      ]
    }
  ],
  "metadata": {
    "colab": {
      "collapsed_sections": [],
      "name": "Web_Scraping.ipynb",
      "provenance": []
    },
    "interpreter": {
      "hash": "b89b5cfaba6639976dc87ff2fec6d58faec662063367e2c229c520fe71072417"
    },
    "kernelspec": {
      "display_name": "Python 3.10.2 64-bit",
      "language": "python",
      "name": "python3"
    },
    "language_info": {
      "codemirror_mode": {
        "name": "ipython",
        "version": 3
      },
      "file_extension": ".py",
      "mimetype": "text/x-python",
      "name": "python",
      "nbconvert_exporter": "python",
      "pygments_lexer": "ipython3",
      "version": "3.10.2"
    },
    "orig_nbformat": 4
  },
  "nbformat": 4,
  "nbformat_minor": 0
}
